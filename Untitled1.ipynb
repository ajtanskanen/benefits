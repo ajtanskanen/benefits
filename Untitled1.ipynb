{
 "cells": [
  {
   "cell_type": "code",
   "execution_count": 6,
   "id": "5eea9083",
   "metadata": {},
   "outputs": [],
   "source": [
    "import numpy as np"
   ]
  },
  {
   "cell_type": "code",
   "execution_count": null,
   "id": "f9b89415",
   "metadata": {},
   "outputs": [],
   "source": []
  },
  {
   "cell_type": "code",
   "execution_count": 7,
   "id": "cb3b9970",
   "metadata": {},
   "outputs": [],
   "source": [
    "        group_weights=np.zeros(3)\n",
    "        group_weights=[0.3,0.5,0.2]\n",
    "\n",
    "        def get_wees(w0,w1,intensity):\n",
    "            return w0*intensity,w1*intensity,get_w(w0,w1)*intensity\n",
    "        \n",
    "        def get_w(a0,a1):\n",
    "            return (1-a0*group_weights[0]-a1*group_weights[1])/group_weights[2]\n",
    "        \n",
    " "
   ]
  },
  {
   "cell_type": "code",
   "execution_count": 35,
   "id": "4269cdff",
   "metadata": {},
   "outputs": [],
   "source": [
    "initial_weight=np.zeros((6,7))\n",
    "m_tyoton=0.019\n",
    "m1,m2,m3=get_wees(1.27,1.0,m_tyoton)\n",
    "# työttämät naiset, osuus väestästä\n",
    "w_tyoton=0.016\n",
    "w1,w2,w3=get_wees(1.2,1.0,w_tyoton)\n",
    "\n",
    "# työlliset, miehet\n",
    "om=0.2565  # miehet töissä + opiskelija\n",
    "om1,om2,om3=get_wees(1.25,1.0,om)\n",
    "\n",
    "ow=0.3443 \n",
    "ow1,ow2,ow3=get_wees(1.2,1.0,ow)\n",
    "# työvoiman ulkopuolella, miehet\n",
    "m_tyovoimanulkop=0.029\n",
    "um1,um2,um3=get_wees(1.3,1.0,m_tyovoimanulkop)\n",
    "\n",
    "# työvoiman ulkopuolella, naiset\n",
    "w_tyovoimanulkop=0.025\n",
    "uw1,uw2,uw3=get_wees(1.2,1.0,w_tyovoimanulkop)\n",
    "# työkyvyttämät, miehet\n",
    "md=0.008\n",
    "md1,md2,md3=get_wees(1.3,1.0,md)\n",
    "# työkyvyttämät, naiset\n",
    "wd=0.00730\n",
    "wd1,wd2,wd3=get_wees(1.2,1.0,wd)\n",
    "\n",
    "# opiskelijat+työlliset+muut työvoiman ulkop+työttämät, miehet\n",
    "ym=0.686+om+m_tyovoimanulkop+m_tyoton # miehet töissä + opiskelija\n",
    "# opiskelijat+työlliset+muut työvoiman ulkop+työttämät, naiset\n",
    "yw=0.6076+ow+w_tyovoimanulkop+w_tyoton\n",
    "\n",
    "# 13,0,1,10,3,11,12\n",
    "initial_weight[0,:]=[m1*4/5,m1*1/5,0.68*om1,0.32*om1,md1,um1,1-om1-um1-m1-md1]\n",
    "initial_weight[1,:]=[m2*4/5,m2*1/5,0.68*om2,0.32*om2,md2,um2,1-om2-um2-m2-md2]\n",
    "initial_weight[2,:]=[m3*4/5,m3*1/5,0.68*om3,0.32*om3,md3,um3,1-om3-um3-m3-md3]\n",
    "initial_weight[3,:]=[w1*4/5,w1*1/5,0.44*ow1,0.56*ow1,wd1,uw1,1-ow1-uw1-w1-wd1]\n",
    "initial_weight[4,:]=[w2*4/5,w2*1/5,0.44*ow2,0.56*ow2,wd2,uw2,1-ow2-uw2-w2-wd2]\n",
    "initial_weight[5,:]=[w3*4/5,w3*1/5,0.44*ow3,0.56*ow3,wd3,uw3,1-ow3-uw3-w3-wd3]"
   ]
  },
  {
   "cell_type": "code",
   "execution_count": null,
   "id": "313db04f",
   "metadata": {},
   "outputs": [],
   "source": []
  },
  {
   "cell_type": "code",
   "execution_count": 36,
   "id": "2f89621d",
   "metadata": {},
   "outputs": [
    {
     "data": {
      "text/plain": [
       "array([[0.019304 , 0.004826 , 0.218025 , 0.1026   , 0.0104   , 0.0377   ,\n",
       "        0.607145 ],\n",
       "       [0.0152   , 0.0038   , 0.17442  , 0.08208  , 0.008    , 0.029    ,\n",
       "        0.6875   ],\n",
       "       [0.009044 , 0.002261 , 0.1090125, 0.0513   , 0.0044   , 0.01595  ,\n",
       "        0.8080325],\n",
       "       [0.01536  , 0.00384  , 0.1817904, 0.2313696, 0.00876  , 0.03     ,\n",
       "        0.52888  ],\n",
       "       [0.0128   , 0.0032   , 0.151492 , 0.192808 , 0.0073   , 0.025    ,\n",
       "        0.6074   ],\n",
       "       [0.00896  , 0.00224  , 0.1060444, 0.1349656, 0.00511  , 0.0175   ,\n",
       "        0.72518  ]])"
      ]
     },
     "execution_count": 36,
     "metadata": {},
     "output_type": "execute_result"
    }
   ],
   "source": [
    "initial_weight"
   ]
  },
  {
   "cell_type": "code",
   "execution_count": 37,
   "id": "36295bf3",
   "metadata": {},
   "outputs": [
    {
     "data": {
      "text/plain": [
       "array([0.0152 , 0.0038 , 0.17442, 0.08208, 0.008  , 0.029  , 0.6875 ])"
      ]
     },
     "execution_count": 37,
     "metadata": {},
     "output_type": "execute_result"
    }
   ],
   "source": [
    "ww=np.array([0.3,0.5,0.2,0.3,0.5,0.2])\n",
    "\n",
    "ww[0:3] @ initial_weight[0:3,:]"
   ]
  },
  {
   "cell_type": "code",
   "execution_count": 38,
   "id": "77849d5d",
   "metadata": {},
   "outputs": [
    {
     "data": {
      "text/plain": [
       "array([0.0128  , 0.0032  , 0.151492, 0.192808, 0.0073  , 0.025   ,\n",
       "       0.6074  ])"
      ]
     },
     "execution_count": 38,
     "metadata": {},
     "output_type": "execute_result"
    }
   ],
   "source": [
    "ww[3:6] @ initial_weight[3:6,:]"
   ]
  },
  {
   "cell_type": "code",
   "execution_count": 39,
   "id": "81f83419",
   "metadata": {},
   "outputs": [
    {
     "data": {
      "text/plain": [
       "array([1., 1., 1., 1., 1., 1.])"
      ]
     },
     "execution_count": 39,
     "metadata": {},
     "output_type": "execute_result"
    }
   ],
   "source": [
    "np.sum(initial_weight,1)"
   ]
  },
  {
   "cell_type": "code",
   "execution_count": null,
   "id": "6d9d1af6",
   "metadata": {},
   "outputs": [],
   "source": []
  }
 ],
 "metadata": {
  "kernelspec": {
   "display_name": "Python 3 (ipykernel)",
   "language": "python",
   "name": "python3"
  },
  "language_info": {
   "codemirror_mode": {
    "name": "ipython",
    "version": 3
   },
   "file_extension": ".py",
   "mimetype": "text/x-python",
   "name": "python",
   "nbconvert_exporter": "python",
   "pygments_lexer": "ipython3",
   "version": "3.7.11"
  }
 },
 "nbformat": 4,
 "nbformat_minor": 5
}
