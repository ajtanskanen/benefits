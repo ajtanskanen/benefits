{
 "cells": [
  {
   "cell_type": "code",
   "execution_count": 11,
   "id": "6fe9bb5a",
   "metadata": {},
   "outputs": [],
   "source": [
    "import numpy as np\n",
    "lapsia=0\n",
    "aikuisia=1\n",
    "kuntaryhma=0"
   ]
  },
  {
   "cell_type": "code",
   "execution_count": 16,
   "id": "48498e2e",
   "metadata": {},
   "outputs": [],
   "source": [
    "vuosi=2022\n",
    "# päivtetty luvut\n",
    "if vuosi==2018:\n",
    "    max_menot=np.array([[508, 492, 390, 344],[735, 706, 570, 501],[937, 890, 723, 641],[1095, 1038, 856, 764]])\n",
    "    max_lisa=np.array([137, 130, 123, 118])\n",
    "elif vuosi==2019:\n",
    "    max_menot=np.array([[516, 499, 396, 349],[735, 706, 600, 527],[937, 890, 761, 675],[1095, 1038, 901, 804]])\n",
    "    max_lisa=np.array([139, 132, 119, 114])\n",
    "elif vuosi==2020:\n",
    "    max_menot=np.array([[520, 503, 399, 352],[752, 722, 583, 513],[958, 910, 740, 656],[1120, 1062, 876, 781]])\n",
    "    max_lisa=np.array([140, 133, 120, 115])\n",
    "elif vuosi==2021:\n",
    "    max_menot=np.array([[521, 504, 400, 353],[754, 723, 584, 514],[960, 912, 741, 657],[1122, 1064, 878, 783]])\n",
    "    max_lisa=np.array([140, 133, 120, 115])\n",
    "elif vuosi==2022:\n",
    "    max_menot=np.array([[537, 520, 413, 364],[778, 746, 602, 530],[990, 941, 764, 678],[1157, 1097, 906, 808]])\n",
    "    max_lisa=np.array([144, 137, 124, 119])\n",
    "elif vuosi==2023:\n",
    "    max_menot=np.array([[537, 520, 413, 364],[778, 746, 602, 530],[990, 941, 764, 678],[1157, 1097, 906, 808]])\n",
    "    max_lisa=np.array([144, 137, 124, 119])\n",
    "else:\n",
    "    max_menot=np.array([[537, 520, 413, 364],[778, 746, 602, 530],[990, 941, 764, 678],[1157, 1097, 906, 808]])\n",
    "    max_lisa=np.array([144, 137, 124, 119])    \n",
    "\n",
    "ind=lapsia+aikuisia-1\n",
    "if ind<5:\n",
    "    asumismenot_toimeentulo=max_menot[kuntaryhma,ind] #vuokra_toimeentulo[ind]\n",
    "    asumismenot_asumistuki=max_menot[kuntaryhma,ind]-ind*30 #vuokra_asumistuki[ind]\n",
    "else:\n",
    "    print(ind,p['kuntaryhma'])  \n",
    "    asumismenot_toimeentulo=max_menot[kuntaryhma,3]+max_lisa[kuntaryhma]*(ind-4)\n",
    "    asumismenot_asumistuki=max_menot[kuntaryhma,3]+max_lisa[kuntaryhma]*(ind-4)-ind*30\n",
    "\n",
    "asumismenot_yhdistetty=asumismenot_toimeentulo"
   ]
  },
  {
   "cell_type": "code",
   "execution_count": 17,
   "id": "d4e1b083",
   "metadata": {},
   "outputs": [
    {
     "data": {
      "text/plain": [
       "537"
      ]
     },
     "execution_count": 17,
     "metadata": {},
     "output_type": "execute_result"
    }
   ],
   "source": [
    "asumismenot_yhdistetty"
   ]
  },
  {
   "cell_type": "code",
   "execution_count": null,
   "id": "503f7725",
   "metadata": {},
   "outputs": [],
   "source": []
  }
 ],
 "metadata": {
  "kernelspec": {
   "display_name": "torch",
   "language": "python",
   "name": "torch"
  },
  "language_info": {
   "codemirror_mode": {
    "name": "ipython",
    "version": 3
   },
   "file_extension": ".py",
   "mimetype": "text/x-python",
   "name": "python",
   "nbconvert_exporter": "python",
   "pygments_lexer": "ipython3",
   "version": "3.9.7"
  }
 },
 "nbformat": 4,
 "nbformat_minor": 5
}
