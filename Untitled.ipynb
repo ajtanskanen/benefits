{
 "cells": [
  {
   "cell_type": "markdown",
   "metadata": {},
   "source": [
    "# EK:n malleja"
   ]
  },
  {
   "cell_type": "code",
   "execution_count": null,
   "metadata": {},
   "outputs": [],
   "source": []
  },
  {
   "cell_type": "markdown",
   "metadata": {},
   "source": [
    "Päivähoitomaksut alemmas ja porrastetaan työttömyysturvaa\n",
    "Tehdään muutoksia asumistukeen (kuten yllä), toimeentulotukeen (7% asumiskulujen omavastuu), porrastetaan työttömyysturva (+5% 3kk, -5% 6kk, -15% siitä eteenpäin"
   ]
  },
  {
   "cell_type": "code",
   "execution_count": null,
   "metadata": {},
   "outputs": [],
   "source": [
    "# Ensin kloonataan luokka Benefits(), joka sisältää koodin\n",
    "class EKmalli(Parempituki):\n",
    "    def paivahoitomenot(self,hoidossa,tulot,p):\n",
    "        # kutsutaan alkuperäistä funktiota eri maksuprosentilla\n",
    "        return super().paivahoitomenot(hoidossa,tulot,p,prosentti1=0.08)\n",
    "    \n",
    "    def ansiopaivaraha(self,tyoton,vakiintunutpalkka,lapsia,tyotaikaisettulot,saa_ansiopaivarahaa,kesto,p,ansiokerroin=1.0):\n",
    "        if tyoton>0:\n",
    "            # porrastetaan ansio-osa keston mukaan\n",
    "            if kesto>6*25:\n",
    "                kerroin=0.85\n",
    "            elif kesto>3*25:\n",
    "                kerroin=0.95\n",
    "            else:\n",
    "                kerroin=1.05\n",
    "        else:\n",
    "            kerroin=0.0\n",
    "\n",
    "        # kutsutaan alkuperäistä ansiopäivärahaa kertoimella\n",
    "        return super().ansiopaivaraha(tyoton,vakiintunutpalkka,lapsia,tyotaikaisettulot,saa_ansiopaivarahaa,kesto,p,ansiokerroin=kerroin)\n",
    "\n",
    "    # yläraja 80% ansionalenemasta\n",
    "    def ansiopaivaraha_ylaraja(self,ansiopaivarahamaara,tyotaikaisettulot,vakpalkka,vakiintunutpalkka):\n",
    "        return min(ansiopaivarahamaara,0.8*max(0,vakiintunutpalkka-tyotaikaisettulot))   \n",
    "     \n",
    "    def tyotulovahennys(self):\n",
    "        max_tyotulovahennys=3000/self.kk_jakaja\n",
    "        ttulorajat=np.array([2500,33000,127000])/self.kk_jakaja\n",
    "        ttulopros=np.array([0.120,0.0165,0])\n",
    "        return max_tyotulovahennys,ttulorajat,ttulopros\n",
    "\n",
    "\n",
    "# Luokka EKmalli() sisältää koodin\n",
    "ek=EKmalli()\n",
    "\n",
    "# ja lasketaan & plotataan tulokset\n",
    "_,_,_=ek.laske_ja_plottaa(p,basenetto=basenetto,baseeff=baseeff,basetva=basetva)\n",
    "ek.laske_ja_plottaa_marginaalit(p,basenetto=basenetto,baseeff=baseeff,basetva=basetva)"
   ]
  }
 ],
 "metadata": {
  "kernelspec": {
   "display_name": "py37",
   "language": "python",
   "name": "py37"
  },
  "language_info": {
   "codemirror_mode": {
    "name": "ipython",
    "version": 3
   },
   "file_extension": ".py",
   "mimetype": "text/x-python",
   "name": "python",
   "nbconvert_exporter": "python",
   "pygments_lexer": "ipython3",
   "version": "3.7.9"
  }
 },
 "nbformat": 4,
 "nbformat_minor": 4
}
